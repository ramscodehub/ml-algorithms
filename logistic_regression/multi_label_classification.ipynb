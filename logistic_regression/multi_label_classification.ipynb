{
  "nbformat": 4,
  "nbformat_minor": 0,
  "metadata": {
    "colab": {
      "name": "multi_label_classification.ipynb",
      "provenance": [],
      "collapsed_sections": []
    },
    "kernelspec": {
      "name": "python3",
      "display_name": "Python 3"
    }
  },
  "cells": [
    {
      "cell_type": "markdown",
      "metadata": {
        "id": "1hUWDXgSJGNT"
      },
      "source": [
        " **1. Loading Data**"
      ]
    },
    {
      "cell_type": "markdown",
      "metadata": {
        "id": "1H4qsJqLPeGw"
      },
      "source": [
        "Methods to solve Multi_Label_Classification Problems\n",
        "***https://www.analyticsvidhya.com/blog/2017/08/introduction-to-multi-label-classification/***"
      ]
    },
    {
      "cell_type": "code",
      "metadata": {
        "id": "lu108HlTGewl"
      },
      "source": [
        "#importing the required libraries\n",
        "import numpy as np\n",
        "import pandas as pd\n",
        "from matplotlib import pyplot as plt\n",
        "from sklearn.model_selection import train_test_split\n",
        "from skmultilearn.problem_transform import ClassifierChain\n",
        "from sklearn.linear_model import LogisticRegression\n",
        "from sklearn.metrics import accuracy_score\n",
        "from sklearn.feature_extraction.text import TfidfVectorizer"
      ],
      "execution_count": null,
      "outputs": []
    },
    {
      "cell_type": "code",
      "metadata": {
        "id": "YD-HrBmAIa1M",
        "outputId": "59b575a1-97d0-4a89-e1c9-dea1f43a877c",
        "colab": {
          "base_uri": "https://localhost:8080/"
        }
      },
      "source": [
        "#mount the drive to access information from drice\n",
        "from google.colab import drive\n",
        "drive.mount(\"/content/drive\")"
      ],
      "execution_count": null,
      "outputs": [
        {
          "output_type": "stream",
          "text": [
            "Drive already mounted at /content/drive; to attempt to forcibly remount, call drive.mount(\"/content/drive\", force_remount=True).\n"
          ],
          "name": "stdout"
        }
      ]
    },
    {
      "cell_type": "code",
      "metadata": {
        "id": "h0w9dWsdHDOc"
      },
      "source": [
        "#load the training and test data\n",
        "train_data=pd.read_csv(\"/content/drive/My Drive/train.csv\")\n",
        "Predict_data=pd.read_csv(\"/content/drive/My Drive/test.csv\")"
      ],
      "execution_count": null,
      "outputs": []
    },
    {
      "cell_type": "code",
      "metadata": {
        "id": "LbGScpMuIF4L",
        "outputId": "45049d1e-c21d-47bf-9f6c-2df742f36ec7",
        "colab": {
          "base_uri": "https://localhost:8080/"
        }
      },
      "source": [
        "#lets just take 14000(due to ram issues in colab) rows for trainin the model\n",
        "train_data=(train_data.head(14000))\n",
        "train_data.shape"
      ],
      "execution_count": null,
      "outputs": [
        {
          "output_type": "execute_result",
          "data": {
            "text/plain": [
              "(14000, 9)"
            ]
          },
          "metadata": {
            "tags": []
          },
          "execution_count": 4
        }
      ]
    },
    {
      "cell_type": "code",
      "metadata": {
        "id": "KQfkGeeaIvht",
        "outputId": "f5513a22-1a67-4e48-e9b9-27c487059a37",
        "colab": {
          "base_uri": "https://localhost:8080/"
        }
      },
      "source": [
        "#checking for missing values\n",
        "missing_values_check = train_data.isnull().sum()\n",
        "print(missing_values_check)"
      ],
      "execution_count": null,
      "outputs": [
        {
          "output_type": "stream",
          "text": [
            "TITLE                   0\n",
            "ABSTRACT                0\n",
            "Computer Science        0\n",
            "Physics                 0\n",
            "Mathematics             0\n",
            "Statistics              0\n",
            "Quantitative Biology    0\n",
            "Quantitative Finance    0\n",
            "labels                  0\n",
            "dtype: int64\n"
          ],
          "name": "stdout"
        }
      ]
    },
    {
      "cell_type": "markdown",
      "metadata": {
        "id": "brKBfTMrJyOw"
      },
      "source": [
        "***2.Data Preprocessing***"
      ]
    },
    {
      "cell_type": "code",
      "metadata": {
        "id": "FiDeKvZwJ7CR"
      },
      "source": [
        "import re\n",
        "def clean_data(sentence):\n",
        "    \"\"\"function that takes a sentence as an argument\n",
        "    and returns it without any punctuations and numbers\"\"\"\n",
        "    cleaned_sentence=sentence.lower()\n",
        "    cleaned_sentence=re.sub(\"['!#$%&\\'()*+,-./:;<=>?@[\\]^_`{|}~']\",\"\",cleaned_sentence)\n",
        "    cleaned_sentence=re.sub(\"[0123456789]\",\"\",cleaned_sentence)\n",
        "    cleaned_sentence=cleaned_sentence.replace(\"\\n\",\"\")\n",
        "    cleaned_sentence=cleaned_sentence.strip()\n",
        "    return cleaned_sentence"
      ],
      "execution_count": null,
      "outputs": []
    },
    {
      "cell_type": "code",
      "metadata": {
        "id": "mFYGsBJ-KEK1"
      },
      "source": [
        "#lets just remove the column abstract and labels since we will be training our model on just title description\n",
        "train_data=train_data.drop([\"ABSTRACT\",\"labels\"],axis=1)\n",
        "Predict_data=Predict_data.drop([\"ABSTRACT\"],axis=1)"
      ],
      "execution_count": null,
      "outputs": []
    },
    {
      "cell_type": "code",
      "metadata": {
        "id": "SWWrFL6wKvZQ"
      },
      "source": [
        "#apply clean data function to labels in train_data and predict_data\n",
        "train_data[\"TITLE\"]=train_data[\"TITLE\"].apply(clean_data)\n",
        "Predict_data[\"TITLE\"]=Predict_data[\"TITLE\"].apply(clean_data)"
      ],
      "execution_count": null,
      "outputs": []
    },
    {
      "cell_type": "code",
      "metadata": {
        "id": "oZfG6Z4cLBH0",
        "outputId": "e0cea5ca-bfff-4a60-eea0-3a17388ca76f",
        "colab": {
          "base_uri": "https://localhost:8080/"
        }
      },
      "source": [
        "#split the train_data to train and test the model\n",
        "train, test = train_test_split(train_data, random_state=1, test_size=0.30, shuffle=True)\n",
        "print(train.shape)\n",
        "print(test.shape)"
      ],
      "execution_count": null,
      "outputs": [
        {
          "output_type": "stream",
          "text": [
            "(9800, 7)\n",
            "(4200, 7)\n"
          ],
          "name": "stdout"
        }
      ]
    },
    {
      "cell_type": "code",
      "metadata": {
        "id": "GDWIr9bQL1js",
        "outputId": "e5c8be35-b460-46d5-81da-9b96ae0f1e32",
        "colab": {
          "base_uri": "https://localhost:8080/"
        }
      },
      "source": [
        "#apply TfidfVectorizer to all titles\n",
        "#Convert a collection of raw documents to a matrix of TF-IDF features\n",
        "train_text = train['TITLE']\n",
        "test_text = test['TITLE']\n",
        "Predict_data_text=Predict_data[\"TITLE\"]\n",
        "vectorizer = TfidfVectorizer(strip_accents='unicode', analyzer='word', ngram_range=(1,3), norm='l2')\n",
        "vectorizer.fit(train_text)\n",
        "vectorizer.fit(test_text)\n",
        "vectorizer.fit(Predict_data_text)"
      ],
      "execution_count": null,
      "outputs": [
        {
          "output_type": "execute_result",
          "data": {
            "text/plain": [
              "TfidfVectorizer(analyzer='word', binary=False, decode_error='strict',\n",
              "                dtype=<class 'numpy.float64'>, encoding='utf-8',\n",
              "                input='content', lowercase=True, max_df=1.0, max_features=None,\n",
              "                min_df=1, ngram_range=(1, 3), norm='l2', preprocessor=None,\n",
              "                smooth_idf=True, stop_words=None, strip_accents='unicode',\n",
              "                sublinear_tf=False, token_pattern='(?u)\\\\b\\\\w\\\\w+\\\\b',\n",
              "                tokenizer=None, use_idf=True, vocabulary=None)"
            ]
          },
          "metadata": {
            "tags": []
          },
          "execution_count": 10
        }
      ]
    },
    {
      "cell_type": "code",
      "metadata": {
        "id": "awRF6LrvMhiS"
      },
      "source": [
        "x_train = vectorizer.transform(train_text)\n",
        "y_train = train.drop(labels = ['TITLE'], axis=1)\n",
        "\n",
        "x_test = vectorizer.transform(test_text)\n",
        "y_test = test.drop(labels = [\"TITLE\"], axis=1)\n",
        "\n",
        "Predict_data_text=vectorizer.transform(Predict_data_text)"
      ],
      "execution_count": null,
      "outputs": []
    },
    {
      "cell_type": "markdown",
      "metadata": {
        "id": "g6QIJXaoM8TU"
      },
      "source": [
        "***3.Building the model***"
      ]
    },
    {
      "cell_type": "code",
      "metadata": {
        "id": "1AHIr9-RNBhu"
      },
      "source": [
        "#using classifier chains\n",
        "classifier = ClassifierChain(LogisticRegression())\n",
        "# Training logistic regression model on train data\n",
        "classifier.fit(x_train, y_train)\n",
        "#predict\n",
        "predictions = classifier.predict(x_test)"
      ],
      "execution_count": null,
      "outputs": []
    },
    {
      "cell_type": "code",
      "metadata": {
        "id": "_M3skQ5BNb-8",
        "outputId": "a2bdfe55-8431-421c-f8e3-776bd4933109",
        "colab": {
          "base_uri": "https://localhost:8080/"
        }
      },
      "source": [
        "#check predictions is of what data type and change it to nd-arraay\n",
        "print(type(predictions))\n",
        "#convert predictions to predictions array type\n",
        "predictions=predictions.toarray()"
      ],
      "execution_count": null,
      "outputs": [
        {
          "output_type": "stream",
          "text": [
            "<class 'scipy.sparse.csc.csc_matrix'>\n"
          ],
          "name": "stdout"
        }
      ]
    },
    {
      "cell_type": "markdown",
      "metadata": {
        "id": "dqmdtFvIoffI"
      },
      "source": [
        "***4.Saving the model***"
      ]
    },
    {
      "cell_type": "code",
      "metadata": {
        "id": "orxjRWNzjypz"
      },
      "source": [
        "#saving the model to save weights\n",
        "import pickle\n",
        "save_model=pickle.dumps(classifier)"
      ],
      "execution_count": null,
      "outputs": []
    },
    {
      "cell_type": "code",
      "metadata": {
        "id": "vXX02dFxkV5H",
        "outputId": "1c97a401-7e54-4eca-e315-6cf6d740d6f9",
        "colab": {
          "base_uri": "https://localhost:8080/"
        }
      },
      "source": [
        "#checking the accuracy of model\n",
        "print(\"Accuracy = \",accuracy_score(y_test,predictions))\n",
        "print(\"\\n\")"
      ],
      "execution_count": null,
      "outputs": [
        {
          "output_type": "stream",
          "text": [
            "Accuracy =  0.555952380952381\n",
            "\n",
            "\n"
          ],
          "name": "stdout"
        }
      ]
    },
    {
      "cell_type": "code",
      "metadata": {
        "id": "b43g8CN5lTVe"
      },
      "source": [
        "def changeLabels(prediction):\n",
        "    #list that stores labels of all features\n",
        "    actualLabels=[]\n",
        "    \"\"\"changing 1's and 0's to actual labels(Computer Science,Physics,...)\"\"\"\n",
        "    for pred in prediction:\n",
        "        present=[]#stores the labels of a present pred\n",
        "        if pred[0]==1: present.append(\"Computer Science\")\n",
        "        if pred[1]==1: present.append(\"Physics\")\n",
        "        if pred[2]==1: present.append(\"Mathematics\")\n",
        "        if pred[3]==1: present.append(\"Quantitative Biology\")\n",
        "        if pred[4]==1: present.append(\"Quantitative Finance\")\n",
        "        actualLabels.append(present)\n",
        "    return actualLabels"
      ],
      "execution_count": null,
      "outputs": []
    },
    {
      "cell_type": "code",
      "metadata": {
        "id": "WSUPn32pmuxN",
        "outputId": "37fbd2e2-768d-4b77-b41e-99280e8b4d27",
        "colab": {
          "base_uri": "https://localhost:8080/"
        }
      },
      "source": [
        "p=changeLabels(predictions)\n",
        "p[:10]"
      ],
      "execution_count": null,
      "outputs": [
        {
          "output_type": "execute_result",
          "data": {
            "text/plain": [
              "[['Physics'],\n",
              " ['Mathematics'],\n",
              " ['Computer Science'],\n",
              " ['Mathematics'],\n",
              " ['Mathematics'],\n",
              " ['Computer Science', 'Quantitative Biology'],\n",
              " ['Quantitative Biology'],\n",
              " ['Mathematics'],\n",
              " ['Mathematics'],\n",
              " ['Physics']]"
            ]
          },
          "metadata": {
            "tags": []
          },
          "execution_count": 17
        }
      ]
    },
    {
      "cell_type": "code",
      "metadata": {
        "id": "D0nlFEUnm1fa"
      },
      "source": [
        "#transforming the list of labels to comma seperated labels\n",
        "def transform(label):\n",
        "    #label...>predictions after changing 0's and 1's to list of labels\n",
        "    finalLabels=[]\n",
        "    for i in label:\n",
        "        finalLabels.append(\",\".join(i))\n",
        "    return finalLabels"
      ],
      "execution_count": null,
      "outputs": []
    },
    {
      "cell_type": "code",
      "metadata": {
        "id": "3e47k22Wn720",
        "outputId": "8d7719eb-7d5b-4e26-cab3-16571f1f97a0",
        "colab": {
          "base_uri": "https://localhost:8080/"
        }
      },
      "source": [
        "afterChanging=transform(p)\n",
        "afterChanging[:10]"
      ],
      "execution_count": null,
      "outputs": [
        {
          "output_type": "execute_result",
          "data": {
            "text/plain": [
              "['Physics',\n",
              " 'Mathematics',\n",
              " 'Computer Science',\n",
              " 'Mathematics',\n",
              " 'Mathematics',\n",
              " 'Computer Science,Quantitative Biology',\n",
              " 'Quantitative Biology',\n",
              " 'Mathematics',\n",
              " 'Mathematics',\n",
              " 'Physics']"
            ]
          },
          "metadata": {
            "tags": []
          },
          "execution_count": 19
        }
      ]
    },
    {
      "cell_type": "markdown",
      "metadata": {
        "id": "cEtm4Tx4ozus"
      },
      "source": [
        "***5.Using the model to Predict the labels for TEST.CSV***"
      ]
    },
    {
      "cell_type": "code",
      "metadata": {
        "id": "OJR45aTdpCf6"
      },
      "source": [
        "predictions_on_test_Matrix=classifier.predict(Predict_data_text)#returns a csc_matrix\n",
        "predictions_on_test_asNumpyArray=predictions_on_test_Matrix.toarray()#convert into numpy array\n",
        "predictions_on_test_labels=changeLabels(predictions_on_test_asNumpyArray)#convert 0's and 1's to labels\n",
        "predictions_on_test_asStrings=transform(predictions_on_test_labels)#transform list of labels to strings"
      ],
      "execution_count": null,
      "outputs": []
    },
    {
      "cell_type": "code",
      "metadata": {
        "id": "miVvDj-VqeMg",
        "outputId": "a01e0e0b-6ca2-421c-c415-688b7d67ad4b",
        "colab": {
          "base_uri": "https://localhost:8080/"
        }
      },
      "source": [
        "#check the prediction_on_test_asStrings\n",
        "print(predictions_on_test_asStrings[:10])"
      ],
      "execution_count": null,
      "outputs": [
        {
          "output_type": "stream",
          "text": [
            "['Mathematics', 'Physics', 'Quantitative Biology', 'Physics', 'Mathematics', 'Mathematics', 'Quantitative Biology', 'Physics', 'Computer Science', 'Mathematics']\n"
          ],
          "name": "stdout"
        }
      ]
    },
    {
      "cell_type": "markdown",
      "metadata": {
        "id": "VdSs-_yRrG0Y"
      },
      "source": [
        "***6.Make a dataframe of predictions and save it as a csv file***"
      ]
    },
    {
      "cell_type": "code",
      "metadata": {
        "id": "UMyO3oNfrAOR"
      },
      "source": [
        "#dictionary\n",
        "from pandas import DataFrame\n",
        "dict={\"labels\":predictions_on_test_asStrings}\n",
        "dataframe=DataFrame(dict)"
      ],
      "execution_count": null,
      "outputs": []
    },
    {
      "cell_type": "code",
      "metadata": {
        "id": "-O3UQB-JrjOC"
      },
      "source": [
        "#dataframe\n",
        "dataframe.head()\n",
        "dataframe.to_csv(\"/content/drive/My Drive/predictions_on_test.csv\",sep=\"\\t\",index=True)"
      ],
      "execution_count": null,
      "outputs": []
    },
    {
      "cell_type": "markdown",
      "metadata": {
        "id": "H0nIV8gns6Jf"
      },
      "source": [
        "***7.Using label power set***"
      ]
    },
    {
      "cell_type": "code",
      "metadata": {
        "id": "nVqmAv0LtEtN",
        "outputId": "2da37dd3-62ef-4829-a9d6-948608ce9932",
        "colab": {
          "base_uri": "https://localhost:8080/"
        }
      },
      "source": [
        "from skmultilearn.problem_transform import LabelPowerset\n",
        "classifier2 = LabelPowerset(LogisticRegression())\n",
        "classifier2.fit(x_train, y_train)\n",
        "predictions2 = classifier2.predict(x_test)\n",
        "# accuracy\n",
        "print(\"Accuracy = \",accuracy_score(y_test,predictions2))\n",
        "print(\"\\n\")"
      ],
      "execution_count": null,
      "outputs": [
        {
          "output_type": "stream",
          "text": [
            "/usr/local/lib/python3.6/dist-packages/sklearn/linear_model/_logistic.py:940: ConvergenceWarning: lbfgs failed to converge (status=1):\n",
            "STOP: TOTAL NO. of ITERATIONS REACHED LIMIT.\n",
            "\n",
            "Increase the number of iterations (max_iter) or scale the data as shown in:\n",
            "    https://scikit-learn.org/stable/modules/preprocessing.html\n",
            "Please also refer to the documentation for alternative solver options:\n",
            "    https://scikit-learn.org/stable/modules/linear_model.html#logistic-regression\n",
            "  extra_warning_msg=_LOGISTIC_SOLVER_CONVERGENCE_MSG)\n"
          ],
          "name": "stderr"
        },
        {
          "output_type": "stream",
          "text": [
            "Accuracy =  0.5842857142857143\n",
            "\n",
            "\n"
          ],
          "name": "stdout"
        }
      ]
    },
    {
      "cell_type": "code",
      "metadata": {
        "id": "yYEAlCo-tPzW"
      },
      "source": [
        "#use the second model to predict the labels of test.csv file\n",
        "preds_second_model=classifier2.predict(Predict_data_text)\n",
        "preds_second_model_numpyArray=preds_second_model.toarray()\n",
        "preds_second_labels=changeLabels(preds_second_model_numpyArray)#convert 0's and 1's to labels\n",
        "preds_second_asStrings=transform(preds_second_labels)#transform list of labels to strings"
      ],
      "execution_count": null,
      "outputs": []
    },
    {
      "cell_type": "code",
      "metadata": {
        "id": "67pWKW3LwKKU",
        "outputId": "908c43d1-06aa-408c-c5bd-5f09a676bc9d",
        "colab": {
          "base_uri": "https://localhost:8080/"
        }
      },
      "source": [
        "preds_second_asStrings[:10]"
      ],
      "execution_count": null,
      "outputs": [
        {
          "output_type": "execute_result",
          "data": {
            "text/plain": [
              "['Computer Science',\n",
              " 'Physics',\n",
              " 'Physics',\n",
              " 'Physics',\n",
              " 'Computer Science',\n",
              " 'Mathematics',\n",
              " 'Computer Science',\n",
              " 'Physics',\n",
              " 'Mathematics',\n",
              " 'Mathematics']"
            ]
          },
          "metadata": {
            "tags": []
          },
          "execution_count": 26
        }
      ]
    },
    {
      "cell_type": "code",
      "metadata": {
        "id": "cHkmFeq_wOTC"
      },
      "source": [
        "#converting the labels to dataframe and save it as csv file\n",
        "dict={\"labels\":preds_second_asStrings}\n",
        "dataframe2=DataFrame(dict)\n",
        "dataframe.to_csv(\"/content/drive/My Drive/predictions_on_test_second.csv\",sep=\"\\t\",index=True)"
      ],
      "execution_count": null,
      "outputs": []
    }
  ]
}